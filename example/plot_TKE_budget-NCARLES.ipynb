{
 "cells": [
  {
   "cell_type": "markdown",
   "metadata": {},
   "source": [
    "## Resolved TKE budget\n",
    "\n",
    "This notebook diagnoses the TKE budget for horizontally homogeneous turbulence from NCAR LES output:\n",
    "$$\\begin{equation*}\n",
    "\\frac{\\partial e}{\\partial t} =\n",
    "\\underbrace{\n",
    "-\\overline{u'w'}\\frac{\\partial \\overline{u}}{\\partial z}\n",
    "-\\overline{v'w'}\\frac{\\partial \\overline{v}}{\\partial z}\n",
    "}_{P}\n",
    "\\underbrace{\n",
    "-\\overline{u'w'}\\frac{\\partial \\overline{u}^S}{\\partial z}\n",
    "-\\overline{v'w'}\\frac{\\partial \\overline{v}^S}{\\partial z}\n",
    "}_{P^S}\n",
    "+\\underbrace{\n",
    "\\overline{w'b'}\n",
    "}_{B}\n",
    "\\underbrace{\n",
    "-\\frac{\\partial}{\\partial z}\\left(\\frac{\\overline{w'p'}}{\\rho_0}+\\overline{w'e}\\right)\n",
    "}_{T}\n",
    "+D,\n",
    "\\end{equation*}$$\n",
    "where $P$ is the shear production, $P^S$ is the Stokes production, $B$ is the buoyancy production, $T$ is the TKE transport and $D$ is the dissipation."
   ]
  },
  {
   "cell_type": "code",
   "execution_count": 1,
   "metadata": {},
   "outputs": [],
   "source": [
    "%matplotlib inline\n",
    "import sys\n",
    "import os\n",
    "import matplotlib.pyplot as plt\n",
    "import numpy as np\n",
    "import xarray as xr\n",
    "sys.path.append(os.environ['HOME']+'/work/lesview')\n",
    "from lesview import *"
   ]
  },
  {
   "cell_type": "code",
   "execution_count": 2,
   "metadata": {},
   "outputs": [],
   "source": [
    "# load data\n",
    "casenames = ['MSM97-ST', 'MSM97-LT']\n",
    "f_stokes = {'MSM97-ST':False, 'MSM97-LT':True}\n",
    "ncarles_pfl = {}\n",
    "ncarles_data_1d_pfl = 'his.mp.vis.000001.014401.nc'\n",
    "for casename in casenames:\n",
    "    ncarles_dir = os.environ['HOME']+'/scratch/benchmark/NCARLES/badger/ncarles/data/ncarles_'+casename\n",
    "    ncarles_pfl[casename] = NCARLESDataProfile(filepath=ncarles_dir+'/'+ncarles_data_1d_pfl)"
   ]
  },
  {
   "cell_type": "markdown",
   "metadata": {},
   "source": [
    "### Parameters "
   ]
  },
  {
   "cell_type": "code",
   "execution_count": 3,
   "metadata": {},
   "outputs": [],
   "source": [
    "# gravitational acceleration (m/s^2)\n",
    "g = 9.81\n",
    "# thermal expansion coefficient (1/degC)\n",
    "alpha = 2.0e-4"
   ]
  },
  {
   "cell_type": "code",
   "execution_count": 4,
   "metadata": {},
   "outputs": [],
   "source": [
    "# one inertial period (17 hours)\n",
    "startdate = '2000-01-02T01:00:00'\n",
    "enddate = '2000-01-02T18:00:00'"
   ]
  },
  {
   "cell_type": "markdown",
   "metadata": {},
   "source": [
    "### Resolved TKE budget\n",
    "\n",
    "All TKE budget terms are diagnosed at the interfaces of the vertical grid"
   ]
  },
  {
   "cell_type": "code",
   "execution_count": 5,
   "metadata": {},
   "outputs": [],
   "source": [
    "def diag_TKE_budget(ds_pfl, startdate, enddate, stokes):\n",
    "    # momentum fluxes\n",
    "    uw_res = ds_pfl.dataset.data_vars['uwle'].sel(time=slice(startdate, enddate))[:-1,:]\n",
    "    vw_res = ds_pfl.dataset.data_vars['vwle'].sel(time=slice(startdate, enddate))[:-1,:]\n",
    "    uw_sgs = ds_pfl.dataset.data_vars['uwsb'].sel(time=slice(startdate, enddate))[:-1,:]\n",
    "    vw_sgs = ds_pfl.dataset.data_vars['vwsb'].sel(time=slice(startdate, enddate))[:-1,:]\n",
    "    # zi and time\n",
    "    zi = uw_res.zi\n",
    "    time = uw_res.time\n",
    "    # shear, U and V are on z\n",
    "    U = ds_pfl.dataset.data_vars['uxym'].sel(time=slice(startdate, enddate))\n",
    "    V = ds_pfl.dataset.data_vars['vxym'].sel(time=slice(startdate, enddate))\n",
    "    dUdz = xr.DataArray((U.diff('z')/U.z.diff('z')).values, dims=('zi', 'time'),\n",
    "                        coords={'zi': zi, 'time': time},\n",
    "                        attrs={'long_name': 'du/dz', 'units': '1/s'})\n",
    "    dVdz = xr.DataArray((V.diff('z')/V.z.diff('z')).values, dims=('zi', 'time'),\n",
    "                        coords={'zi': zi, 'time': time},\n",
    "                        attrs={'long_name': 'dv/dz', 'units': '1/s'})\n",
    "\n",
    "    # shear production\n",
    "    Px = -uw_res*dUdz\n",
    "    Py = -vw_res*dVdz\n",
    "    P = Px + Py\n",
    "    Px.attrs['long_name'] = 'resolved shear production, x-direction'\n",
    "    Px.attrs['units'] = 'm$^2$/s$^3$'\n",
    "    Py.attrs['long_name'] = 'resolved shear production, y-direction'\n",
    "    Py.attrs['units'] = 'm$^2$/s$^3$'\n",
    "    P.attrs['long_name'] = 'resolved shear production'\n",
    "    P.attrs['units'] = 'm$^2$/s$^3$'\n",
    "    Px_sgs = -uw_sgs*dUdz\n",
    "    Py_sgs = -vw_sgs*dVdz\n",
    "    P_sgs = Px_sgs + Py_sgs\n",
    "    Px_sgs.attrs['long_name'] = 'subgrid-scale shear production, x-direction'\n",
    "    Px_sgs.attrs['units'] = 'm$^2$/s$^3$'\n",
    "    Py_sgs.attrs['long_name'] = 'subgrid-scale shear production, y-direction'\n",
    "    Py_sgs.attrs['units'] = 'm$^2$/s$^3$'\n",
    "    P_sgs.attrs['long_name'] = 'subgrid-scale shear production'\n",
    "    P_sgs.attrs['units'] = 'm$^2$/s$^3$'\n",
    "\n",
    "    # Stokes production\n",
    "    if stokes:\n",
    "        Us = ds_pfl.dataset.data_vars['stokes'].sel(time=slice(startdate, enddate))\n",
    "        dUsdz = xr.DataArray((Us.diff('z')/Us.z.diff('z')).values, dims=('zi', 'time'),\n",
    "                            coords={'zi': zi, 'time': time},\n",
    "                            attrs={'long_name': 'dus/dz', 'units': '1/s'})\n",
    "        PS = -uw_res*dUsdz\n",
    "        PS_sgs = -uw_sgs*dUsdz\n",
    "    else:\n",
    "        PS = xr.zeros_like(P)\n",
    "        PS_sgs = xr.zeros_like(P_sgs)\n",
    "    PS.attrs['long_name'] = 'resolved Stokes production'\n",
    "    PS.attrs['units'] = 'm$^2$/s$^3$'\n",
    "    PS_sgs.attrs['long_name'] = 'subgrid-scale Stokes production'\n",
    "    PS_sgs.attrs['units'] = 'm$^2$/s$^3$'\n",
    "\n",
    "    # buoyancy production\n",
    "    wt_res = ds_pfl.dataset.data_vars['wtle'].sel(time=slice(startdate, enddate))\n",
    "    wt_sgs = ds_pfl.dataset.data_vars['wtsb'].sel(time=slice(startdate, enddate))\n",
    "    B = g*alpha*wt_res\n",
    "    B.attrs['long_name'] = 'resolved buoyancy production'\n",
    "    B.attrs['units'] = 'm$^2$/s$^3$'\n",
    "    B_sgs = g*alpha*wt_sgs\n",
    "    B_sgs.attrs['long_name'] = 'subgrid-scale buoyancy production'\n",
    "    B_sgs.attrs['units'] = 'm$^2$/s$^3$'\n",
    "\n",
    "    # TEK transport\n",
    "    Te = ds_pfl.dataset.data_vars['t_wq'].sel(time=slice(startdate, enddate))\n",
    "    Tp = ds_pfl.dataset.data_vars['t_wp'].sel(time=slice(startdate, enddate))\n",
    "    Tt = ds_pfl.dataset.data_vars['t_tau'].sel(time=slice(startdate, enddate))\n",
    "    T = Te + Tp + Tt\n",
    "    T.attrs['long_name'] = 'total TKE transport'\n",
    "    T.attrs['units'] = 'm$^2$/s$^3$'\n",
    "\n",
    "    # dissipation\n",
    "    D = -ds_pfl.dataset.data_vars['t_dsle'].sel(time=slice(startdate, enddate))\n",
    "    D.attrs['long_name'] = 'dissipation'\n",
    "    D.attrs['units'] = 'm$^2$/s$^3$'\n",
    "\n",
    "    # residual\n",
    "    R = P+PS+B+T+D\n",
    "    \n",
    "    return {'P':P, 'PS':PS, 'B':B, 'T':T, 'D':D, 'R':R}"
   ]
  },
  {
   "cell_type": "code",
   "execution_count": 6,
   "metadata": {},
   "outputs": [
    {
     "data": {
      "text/plain": [
       "<matplotlib.legend.Legend at 0x7fcfc6bd2510>"
      ]
     },
     "execution_count": 6,
     "metadata": {},
     "output_type": "execute_result"
    },
    {
     "data": {
      "image/png": "[encoded data removed]",
      "text/plain": [
       "<Figure size 576x288 with 2 Axes>"
      ]
     },
     "metadata": {
      "needs_background": "light"
     },
     "output_type": "display_data"
    }
   ],
   "source": [
    "depth = -50\n",
    "fig, axarr = plt.subplots(1, 2, sharey='row')\n",
    "fig.set_size_inches([8,4])\n",
    "for i, casename in enumerate(casenames):\n",
    "    ds_pfl = ncarles_pfl[casename]\n",
    "    stokes = f_stokes[casename]\n",
    "    budget = diag_TKE_budget(ds_pfl, startdate, enddate, stokes)\n",
    "    budget['P'].mean('time').plot(y='zi', ax=axarr[i], color='r', label='$P$')\n",
    "    budget['PS'].mean('time').plot(y='zi', ax=axarr[i], color='m', label='$P^S$')\n",
    "    budget['B'].mean('time').plot(y='zi', ax=axarr[i], color='b', label='$B$')\n",
    "    budget['T'].mean('time').plot(y='zi', ax=axarr[i], color='g', label='$T$')\n",
    "    budget['D'].mean('time').plot(y='zi', ax=axarr[i], color='c', label='$D$')\n",
    "    budget['R'].mean('time').plot(y='zi', ax=axarr[i], color='gray', linestyle='--', label='$R$')\n",
    "    axarr[i].set_xlim([-0.5e-7, 0.5e-7])\n",
    "    axarr[i].set_xlabel('TKE budget (m$^2$/s$^3$)')\n",
    "    axarr[i].set_ylim([depth, 0])\n",
    "    axarr[i].set_title(casename)\n",
    "axarr[0].set_ylabel('Depth (m)')\n",
    "axarr[1].set_ylabel('')\n",
    "axarr[0].legend(loc='lower right')"
   ]
  },
  {
   "cell_type": "code",
   "execution_count": null,
   "metadata": {},
   "outputs": [],
   "source": []
  }
 ],
 "metadata": {
  "kernelspec": {
   "display_name": "Python 3",
   "language": "python",
   "name": "python3"
  },
  "language_info": {
   "codemirror_mode": {
    "name": "ipython",
    "version": 3
   },
   "file_extension": ".py",
   "mimetype": "text/x-python",
   "name": "python",
   "nbconvert_exporter": "python",
   "pygments_lexer": "ipython3",
   "version": "3.7.7"
  }
 },
 "nbformat": 4,
 "nbformat_minor": 2
}
