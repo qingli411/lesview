{
 "cells": [
  {
   "cell_type": "markdown",
   "metadata": {},
   "source": [
    "## Resolved TKE budget\n",
    "\n",
    "This notebook diagnoses the TKE budget for horizontally homogeneous turbulence from PALM output:\n",
    "$$\\begin{equation*}\n",
    "\\frac{\\partial e}{\\partial t} =\n",
    "\\underbrace{\n",
    "-\\overline{u'w'}\\frac{\\partial \\overline{u}}{\\partial z}\n",
    "-\\overline{v'w'}\\frac{\\partial \\overline{v}}{\\partial z}\n",
    "}_{P}\n",
    "\\underbrace{\n",
    "-\\overline{u'w'}\\frac{\\partial \\overline{u}^S}{\\partial z}\n",
    "-\\overline{v'w'}\\frac{\\partial \\overline{v}^S}{\\partial z}\n",
    "}_{P^S}\n",
    "+\\underbrace{\n",
    "\\overline{w'b'}\n",
    "}_{B}\n",
    "\\underbrace{\n",
    "-\\frac{\\partial}{\\partial z}\\left(\\frac{\\overline{w'p'}}{\\rho_0}+\\overline{w'e}\\right)\n",
    "}_{T}\n",
    "+D,\n",
    "\\end{equation*}$$\n",
    "where $P$ is the shear production, $P^S$ is the Stokes production, $B$ is the buoyancy production, $T$ is the TKE transport and $D$ is the dissipation."
   ]
  },
  {
   "cell_type": "code",
   "execution_count": 1,
   "metadata": {},
   "outputs": [],
   "source": [
    "%matplotlib inline\n",
    "import sys\n",
    "import os\n",
    "import matplotlib.pyplot as plt\n",
    "import numpy as np\n",
    "import xarray as xr\n",
    "sys.path.append(os.environ['HOME']+'/work/lesview')\n",
    "from lesview import *"
   ]
  },
  {
   "cell_type": "code",
   "execution_count": 2,
   "metadata": {},
   "outputs": [],
   "source": [
    "# load data\n",
    "casenames = ['MSM97-ST', 'MSM97-LT']\n",
    "f_stokes = {'MSM97-ST':False, 'MSM97-LT':True}\n",
    "palm_pfl = {}\n",
    "palm_data_1d_pfl = 'DATA_1D_PR_NETCDF'\n",
    "for casename in casenames:\n",
    "    palm_dir = os.environ['HOME']+'/scratch/benchmark/sPALM/3051fa2/badger/RUN_lanl_intel_cpu_mpi_PALM_ocean_'+casename\n",
    "    palm_pfl[casename] = PALMDataProfile(filepath=palm_dir+'/'+palm_data_1d_pfl)"
   ]
  },
  {
   "cell_type": "markdown",
   "metadata": {},
   "source": [
    "### Parameters "
   ]
  },
  {
   "cell_type": "code",
   "execution_count": 3,
   "metadata": {},
   "outputs": [],
   "source": [
    "# gravitational acceleration (m/s^2)\n",
    "g = 9.81\n",
    "# thermal expansion coefficient (1/degC)\n",
    "# TODO: constant for now, may need to read from output in PALM\n",
    "alpha = 2.0e-4\n",
    "# saline contraction coefficient (1/psu)\n",
    "# TODO: constant for now, may need to read from output in PALM\n",
    "beta = 8.0e-4"
   ]
  },
  {
   "cell_type": "code",
   "execution_count": 4,
   "metadata": {},
   "outputs": [],
   "source": [
    "# one inertial period (17 hours)\n",
    "startdate = '2000-01-02T01:00:00'\n",
    "enddate = '2000-01-02T18:00:00'"
   ]
  },
  {
   "cell_type": "markdown",
   "metadata": {},
   "source": [
    "### Resolved TKE budget\n",
    "\n",
    "All TKE budget terms are diagnosed at the interfaces of the vertical grid"
   ]
  },
  {
   "cell_type": "code",
   "execution_count": 5,
   "metadata": {},
   "outputs": [],
   "source": [
    "def diag_TKE_budget(ds_pfl, startdate, enddate, stokes):\n",
    "    # momentum fluxes\n",
    "    uw_res = ds_pfl.dataset.data_vars['w*u*'].sel(time=slice(startdate, enddate))[1:-1,:]\n",
    "    vw_res = ds_pfl.dataset.data_vars['w*v*'].sel(time=slice(startdate, enddate))[1:-1,:]\n",
    "    uw_sgs = ds_pfl.dataset.data_vars['w\"u\"'].sel(time=slice(startdate, enddate))[1:-1,:]\n",
    "    vw_sgs = ds_pfl.dataset.data_vars['w\"v\"'].sel(time=slice(startdate, enddate))[1:-1,:]\n",
    "    # zi and time\n",
    "    zi = uw_res.zi\n",
    "    time = uw_res.time\n",
    "    # shear, U and V are on z\n",
    "    U = ds_pfl.dataset.data_vars['u'].sel(time=slice(startdate, enddate))\n",
    "    V = ds_pfl.dataset.data_vars['v'].sel(time=slice(startdate, enddate))\n",
    "    dUdz = xr.DataArray((U.diff('z')/U.z.diff('z')).values, dims=('zi', 'time'),\n",
    "                        coords={'zi': zi, 'time': time},\n",
    "                        attrs={'long_name': 'du/dz', 'units': '1/s'})\n",
    "    dVdz = xr.DataArray((V.diff('z')/V.z.diff('z')).values, dims=('zi', 'time'),\n",
    "                        coords={'zi': zi, 'time': time},\n",
    "                        attrs={'long_name': 'dv/dz', 'units': '1/s'})\n",
    "\n",
    "    # shear production\n",
    "    Px = -uw_res*dUdz\n",
    "    Py = -vw_res*dVdz\n",
    "    P = Px + Py\n",
    "    Px.attrs['long_name'] = 'resolved shear production, x-direction'\n",
    "    Px.attrs['units'] = 'm$^2$/s$^3$'\n",
    "    Py.attrs['long_name'] = 'resolved shear production, y-direction'\n",
    "    Py.attrs['units'] = 'm$^2$/s$^3$'\n",
    "    P.attrs['long_name'] = 'resolved shear production'\n",
    "    P.attrs['units'] = 'm$^2$/s$^3$'\n",
    "    Px_sgs = -uw_sgs*dUdz\n",
    "    Py_sgs = -vw_sgs*dVdz\n",
    "    P_sgs = Px_sgs + Py_sgs\n",
    "    Px_sgs.attrs['long_name'] = 'subgrid-scale shear production, x-direction'\n",
    "    Px_sgs.attrs['units'] = 'm$^2$/s$^3$'\n",
    "    Py_sgs.attrs['long_name'] = 'subgrid-scale shear production, y-direction'\n",
    "    Py_sgs.attrs['units'] = 'm$^2$/s$^3$'\n",
    "    P_sgs.attrs['long_name'] = 'subgrid-scale shear production'\n",
    "    P_sgs.attrs['units'] = 'm$^2$/s$^3$'\n",
    "\n",
    "    # Stokes production\n",
    "    if stokes:\n",
    "        Us = ds_pfl.dataset.data_vars['u_stk'].sel(time=slice(startdate, enddate))\n",
    "        Vs = ds_pfl.dataset.data_vars['v_stk'].sel(time=slice(startdate, enddate))\n",
    "        dUsdz = xr.DataArray((Us.diff('z')/Us.z.diff('z')).values, dims=('zi', 'time'),\n",
    "                            coords={'zi': zi, 'time': time},\n",
    "                            attrs={'long_name': 'dus/dz', 'units': '1/s'})\n",
    "        dVsdz = xr.DataArray((Vs.diff('z')/Vs.z.diff('z')).values, dims=('zi', 'time'),\n",
    "                            coords={'zi': zi, 'time': time},\n",
    "                            attrs={'long_name': 'dvs/dz', 'units': '1/s'})\n",
    "        PS = -uw_res*dUsdz - vw_res*dVsdz\n",
    "        PS_sgs = -uw_sgs*dUsdz - vw_sgs*dVsdz\n",
    "    else:\n",
    "        PS = xr.zeros_like(P)\n",
    "        PS_sgs = xr.zeros_like(P_sgs)\n",
    "    PS.attrs['long_name'] = 'resolved Stokes production'\n",
    "    PS.attrs['units'] = 'm$^2$/s$^3$'\n",
    "    PS_sgs.attrs['long_name'] = 'subgrid-scale Stokes production'\n",
    "    PS_sgs.attrs['units'] = 'm$^2$/s$^3$'\n",
    "\n",
    "    # buoyancy production\n",
    "    wt_res = ds_pfl.dataset.data_vars['w*pt*'].sel(time=slice(startdate, enddate))\n",
    "    wt_sgs = ds_pfl.dataset.data_vars['w\"pt\"'].sel(time=slice(startdate, enddate))\n",
    "    B = g*alpha*wt_res\n",
    "    B.attrs['long_name'] = 'resolved buoyancy production'\n",
    "    B.attrs['units'] = 'm$^2$/s$^3$'\n",
    "    B_sgs = g*alpha*wt_sgs\n",
    "    B_sgs.attrs['long_name'] = 'subgrid-scale buoyancy production'\n",
    "    B_sgs.attrs['units'] = 'm$^2$/s$^3$'\n",
    "\n",
    "    # TEK transport\n",
    "    we = ds_pfl.dataset.data_vars['w*e*'].sel(time=slice(startdate, enddate))\n",
    "    Te = xr.DataArray((-we.diff('z')/we.z.diff('z')).values, dims=('zi', 'time'),\n",
    "                        coords={'zi': zi, 'time': time},\n",
    "                        attrs={'long_name': 'TKE transport', 'units': 'm$^2$/s$^3$'})\n",
    "    wp = ds_pfl.dataset.data_vars['w*p*'].sel(time=slice(startdate, enddate))\n",
    "    Tp = xr.DataArray((-wp.diff('z')/wp.z.diff('z')).values, dims=('zi', 'time'),\n",
    "                        coords={'zi': zi, 'time': time},\n",
    "                        attrs={'long_name': 'TKE transport due to pressure fluctuation',\n",
    "                               'units': 'm$^2$/s$^3$'})\n",
    "    tau = ds_pfl.dataset.data_vars['w\"u\"u*'].sel(time=slice(startdate, enddate))\n",
    "    Tt = xr.DataArray((-tau.diff('z')/tau.z.diff('z')).values, dims=('zi', 'time'),\n",
    "                        coords={'zi': zi, 'time': time},\n",
    "                        attrs={'long_name': 'TKE transport of sgs fluxes',\n",
    "                               'units': 'm$^2$/s$^3$'})\n",
    "    T = Te + Tp + Tt\n",
    "    T.attrs['long_name'] = 'total TKE transport'\n",
    "    T.attrs['units'] = 'm$^2$/s$^3$'\n",
    "\n",
    "    # dissipation\n",
    "    D = -ds_pfl.dataset.data_vars['diss'].sel(time=slice(startdate, enddate)) + P_sgs\n",
    "    D.attrs['long_name'] = 'dissipation'\n",
    "    D.attrs['units'] = 'm$^2$/s$^3$'\n",
    "    eps = -ds_pfl.dataset.data_vars['eps'].sel(time=slice(startdate, enddate))\n",
    "    D_sgs = xr.DataArray( 0.5*(eps[:-1,:].values+eps[1:,:].values), dims=('zi', 'time'),\n",
    "                    coords={'zi': zi, 'time': time},\n",
    "                    attrs={'long_name': 'dissipation',\n",
    "                           'units': 'm$^2$/s$^3$'})\n",
    "\n",
    "    # residual\n",
    "    R = P+PS+B+T+D\n",
    "    \n",
    "    return {'P':P, 'PS':PS, 'B':B, 'T':T, 'D':D, 'R':R, 'D_sgs':D_sgs}"
   ]
  },
  {
   "cell_type": "code",
   "execution_count": 6,
   "metadata": {},
   "outputs": [
    {
     "data": {
      "text/plain": [
       "<matplotlib.legend.Legend at 0x7f1fbf750850>"
      ]
     },
     "execution_count": 6,
     "metadata": {},
     "output_type": "execute_result"
    },
    {
     "data": {
      "image/png": "[encoded data removed]",
      "text/plain": [
       "<Figure size 576x288 with 2 Axes>"
      ]
     },
     "metadata": {
      "needs_background": "light"
     },
     "output_type": "display_data"
    }
   ],
   "source": [
    "depth = -50\n",
    "fig, axarr = plt.subplots(1, 2, sharey='row')\n",
    "fig.set_size_inches([8,4])\n",
    "for i, casename in enumerate(casenames):\n",
    "    ds_pfl = palm_pfl[casename]\n",
    "    stokes = f_stokes[casename]\n",
    "    budget = diag_TKE_budget(ds_pfl, startdate, enddate, stokes)\n",
    "    budget['P'].mean('time').plot(y='zi', ax=axarr[i], color='r', label='$P$')\n",
    "    budget['PS'].mean('time').plot(y='zi', ax=axarr[i], color='m', label='$P^S$')\n",
    "    budget['B'].mean('time').plot(y='zi', ax=axarr[i], color='b', label='$B$')\n",
    "    budget['T'].mean('time').plot(y='zi', ax=axarr[i], color='g', label='$T$')\n",
    "    budget['D'].mean('time').plot(y='zi', ax=axarr[i], color='c', label='$D$')\n",
    "#     budget['D_sgs'].mean('time').plot(y='zi', ax=axarr[i], color='c', linestyle='--', label='$D_s$')\n",
    "    budget['R'].mean('time').plot(y='zi', ax=axarr[i], color='gray', linestyle='--', label='$R$')\n",
    "    axarr[i].set_xlim([-0.5e-7, 0.5e-7])\n",
    "    axarr[i].set_xlabel('TKE budget (m$^2$/s$^3$)')\n",
    "    axarr[i].set_ylim([depth, 0])\n",
    "    axarr[i].set_title(casename)\n",
    "axarr[0].set_ylabel('Depth (m)')\n",
    "axarr[1].set_ylabel('')\n",
    "axarr[0].legend(loc='lower right')"
   ]
  },
  {
   "cell_type": "code",
   "execution_count": null,
   "metadata": {},
   "outputs": [],
   "source": []
  }
 ],
 "metadata": {
  "kernelspec": {
   "display_name": "Python 3",
   "language": "python",
   "name": "python3"
  },
  "language_info": {
   "codemirror_mode": {
    "name": "ipython",
    "version": 3
   },
   "file_extension": ".py",
   "mimetype": "text/x-python",
   "name": "python",
   "nbconvert_exporter": "python",
   "pygments_lexer": "ipython3",
   "version": "3.7.7"
  }
 },
 "nbformat": 4,
 "nbformat_minor": 2
}
